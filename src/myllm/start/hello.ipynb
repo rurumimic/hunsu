{
 "cells": [
  {
   "cell_type": "code",
   "execution_count": 1,
   "id": "60397f37-8c7c-49e5-8541-c6c5aeed7e78",
   "metadata": {
    "tags": []
   },
   "outputs": [
    {
     "name": "stderr",
     "output_type": "stream",
     "text": [
      "/Users/keanu/.pyenv/versions/3.11.1/envs/myllm/lib/python3.11/site-packages/tqdm/auto.py:21: TqdmWarning: IProgress not found. Please update jupyter and ipywidgets. See https://ipywidgets.readthedocs.io/en/stable/user_install.html\n",
      "  from .autonotebook import tqdm as notebook_tqdm\n"
     ]
    }
   ],
   "source": [
    "from transformers import LlamaForCausalLM, LlamaTokenizer"
   ]
  },
  {
   "cell_type": "code",
   "execution_count": 2,
   "id": "d4cc9904-00f3-4689-b400-6487ef2338c3",
   "metadata": {
    "tags": []
   },
   "outputs": [],
   "source": [
    "tokenizer = LlamaTokenizer.from_pretrained(\"./KoAlpaca/\")"
   ]
  },
  {
   "cell_type": "code",
   "execution_count": null,
   "id": "2bb9a0e8-091b-4d62-9243-692bd1cc30da",
   "metadata": {
    "tags": []
   },
   "outputs": [
    {
     "name": "stderr",
     "output_type": "stream",
     "text": [
      "Loading checkpoint shards:  33%|██████████████████████████████████████████                                                                                    | 1/3 [01:58<03:56, 118.35s/it]"
     ]
    }
   ],
   "source": [
    "model = LlamaForCausalLM.from_pretrained(\"./KoAlpaca/\")"
   ]
  },
  {
   "cell_type": "code",
   "execution_count": null,
   "id": "f7de6490-2d0d-44d4-b3d6-2cc7f0636fd9",
   "metadata": {
    "tags": []
   },
   "outputs": [],
   "source": [
    "print(\"KoAlpaca!\")"
   ]
  },
  {
   "cell_type": "code",
   "execution_count": null,
   "id": "ad7e4189-334a-4b08-a0d5-63cedb404af3",
   "metadata": {
    "tags": []
   },
   "outputs": [],
   "source": [
    "tensor = model.generate(**tokenizer(\"안녕하세요?\", return_tensors=\"pt\"))"
   ]
  },
  {
   "cell_type": "code",
   "execution_count": null,
   "id": "3e8939b1-35e7-4d23-8a4d-690a975628da",
   "metadata": {
    "tags": []
   },
   "outputs": [],
   "source": [
    "tensor"
   ]
  }
 ],
 "metadata": {
  "kernelspec": {
   "display_name": "Python 3 (ipykernel)",
   "language": "python",
   "name": "python3"
  },
  "language_info": {
   "codemirror_mode": {
    "name": "ipython",
    "version": 3
   },
   "file_extension": ".py",
   "mimetype": "text/x-python",
   "name": "python",
   "nbconvert_exporter": "python",
   "pygments_lexer": "ipython3",
   "version": "3.11.1"
  }
 },
 "nbformat": 4,
 "nbformat_minor": 5
}
